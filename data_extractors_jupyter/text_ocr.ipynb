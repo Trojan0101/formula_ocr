{
 "cells": [
  {
   "cell_type": "markdown",
   "metadata": {},
   "source": [
    "## Use tesseract or easyocr to detect text only:\n",
    "\n",
    "1) Calculate the coordinates where the text's are located in the image.\n",
    "2) Draw bounding boxes on these coordinates.\n",
    "3) Extract only the texts in these bounding boxes."
   ]
  },
  {
   "cell_type": "code",
   "execution_count": 2,
   "metadata": {},
   "outputs": [
    {
     "name": "stdout",
     "output_type": "stream",
     "text": [
      "Requirement already satisfied: opencv-python in d:\\development\\freelance\\formula_ocr_jupyter\\text_venv\\lib\\site-packages (4.10.0.84)\n",
      "Requirement already satisfied: matplotlib in d:\\development\\freelance\\formula_ocr_jupyter\\text_venv\\lib\\site-packages (3.7.5)\n",
      "Requirement already satisfied: torch in d:\\development\\freelance\\formula_ocr_jupyter\\text_venv\\lib\\site-packages (2.3.1)\n",
      "Requirement already satisfied: torchvision in d:\\development\\freelance\\formula_ocr_jupyter\\text_venv\\lib\\site-packages (0.18.1)\n",
      "Requirement already satisfied: easyocr in d:\\development\\freelance\\formula_ocr_jupyter\\text_venv\\lib\\site-packages (1.7.1)\n",
      "Requirement already satisfied: numpy>=1.17.0 in d:\\development\\freelance\\formula_ocr_jupyter\\text_venv\\lib\\site-packages (from opencv-python) (1.24.4)\n",
      "Requirement already satisfied: contourpy>=1.0.1 in d:\\development\\freelance\\formula_ocr_jupyter\\text_venv\\lib\\site-packages (from matplotlib) (1.1.1)\n",
      "Requirement already satisfied: cycler>=0.10 in d:\\development\\freelance\\formula_ocr_jupyter\\text_venv\\lib\\site-packages (from matplotlib) (0.12.1)\n",
      "Requirement already satisfied: fonttools>=4.22.0 in d:\\development\\freelance\\formula_ocr_jupyter\\text_venv\\lib\\site-packages (from matplotlib) (4.53.1)\n",
      "Requirement already satisfied: kiwisolver>=1.0.1 in d:\\development\\freelance\\formula_ocr_jupyter\\text_venv\\lib\\site-packages (from matplotlib) (1.4.5)\n",
      "Requirement already satisfied: packaging>=20.0 in d:\\development\\freelance\\formula_ocr_jupyter\\text_venv\\lib\\site-packages (from matplotlib) (24.1)\n",
      "Requirement already satisfied: pillow>=6.2.0 in d:\\development\\freelance\\formula_ocr_jupyter\\text_venv\\lib\\site-packages (from matplotlib) (10.4.0)\n",
      "Requirement already satisfied: pyparsing>=2.3.1 in d:\\development\\freelance\\formula_ocr_jupyter\\text_venv\\lib\\site-packages (from matplotlib) (3.1.2)\n",
      "Requirement already satisfied: python-dateutil>=2.7 in d:\\development\\freelance\\formula_ocr_jupyter\\text_venv\\lib\\site-packages (from matplotlib) (2.9.0.post0)\n",
      "Requirement already satisfied: importlib-resources>=3.2.0 in d:\\development\\freelance\\formula_ocr_jupyter\\text_venv\\lib\\site-packages (from matplotlib) (6.4.0)\n",
      "Requirement already satisfied: filelock in d:\\development\\freelance\\formula_ocr_jupyter\\text_venv\\lib\\site-packages (from torch) (3.15.4)\n",
      "Requirement already satisfied: typing-extensions>=4.8.0 in d:\\development\\freelance\\formula_ocr_jupyter\\text_venv\\lib\\site-packages (from torch) (4.12.2)\n",
      "Requirement already satisfied: sympy in d:\\development\\freelance\\formula_ocr_jupyter\\text_venv\\lib\\site-packages (from torch) (1.13.1)\n",
      "Requirement already satisfied: networkx in d:\\development\\freelance\\formula_ocr_jupyter\\text_venv\\lib\\site-packages (from torch) (3.1)\n",
      "Requirement already satisfied: jinja2 in d:\\development\\freelance\\formula_ocr_jupyter\\text_venv\\lib\\site-packages (from torch) (3.1.4)\n",
      "Requirement already satisfied: fsspec in d:\\development\\freelance\\formula_ocr_jupyter\\text_venv\\lib\\site-packages (from torch) (2024.6.1)\n",
      "Requirement already satisfied: mkl<=2021.4.0,>=2021.1.1 in d:\\development\\freelance\\formula_ocr_jupyter\\text_venv\\lib\\site-packages (from torch) (2021.4.0)\n",
      "Requirement already satisfied: opencv-python-headless in d:\\development\\freelance\\formula_ocr_jupyter\\text_venv\\lib\\site-packages (from easyocr) (4.10.0.84)\n",
      "Requirement already satisfied: scipy in d:\\development\\freelance\\formula_ocr_jupyter\\text_venv\\lib\\site-packages (from easyocr) (1.10.1)\n",
      "Requirement already satisfied: scikit-image in d:\\development\\freelance\\formula_ocr_jupyter\\text_venv\\lib\\site-packages (from easyocr) (0.21.0)\n",
      "Requirement already satisfied: python-bidi in d:\\development\\freelance\\formula_ocr_jupyter\\text_venv\\lib\\site-packages (from easyocr) (0.5.0)\n",
      "Requirement already satisfied: PyYAML in d:\\development\\freelance\\formula_ocr_jupyter\\text_venv\\lib\\site-packages (from easyocr) (6.0.1)\n",
      "Requirement already satisfied: Shapely in d:\\development\\freelance\\formula_ocr_jupyter\\text_venv\\lib\\site-packages (from easyocr) (2.0.5)\n",
      "Requirement already satisfied: pyclipper in d:\\development\\freelance\\formula_ocr_jupyter\\text_venv\\lib\\site-packages (from easyocr) (1.3.0.post5)\n",
      "Requirement already satisfied: ninja in d:\\development\\freelance\\formula_ocr_jupyter\\text_venv\\lib\\site-packages (from easyocr) (1.11.1.1)\n",
      "Requirement already satisfied: zipp>=3.1.0 in d:\\development\\freelance\\formula_ocr_jupyter\\text_venv\\lib\\site-packages (from importlib-resources>=3.2.0->matplotlib) (3.19.2)\n",
      "Requirement already satisfied: intel-openmp==2021.* in d:\\development\\freelance\\formula_ocr_jupyter\\text_venv\\lib\\site-packages (from mkl<=2021.4.0,>=2021.1.1->torch) (2021.4.0)\n",
      "Requirement already satisfied: tbb==2021.* in d:\\development\\freelance\\formula_ocr_jupyter\\text_venv\\lib\\site-packages (from mkl<=2021.4.0,>=2021.1.1->torch) (2021.13.0)\n",
      "Requirement already satisfied: six>=1.5 in d:\\development\\freelance\\formula_ocr_jupyter\\text_venv\\lib\\site-packages (from python-dateutil>=2.7->matplotlib) (1.16.0)\n",
      "Requirement already satisfied: MarkupSafe>=2.0 in d:\\development\\freelance\\formula_ocr_jupyter\\text_venv\\lib\\site-packages (from jinja2->torch) (2.1.5)\n",
      "Requirement already satisfied: imageio>=2.27 in d:\\development\\freelance\\formula_ocr_jupyter\\text_venv\\lib\\site-packages (from scikit-image->easyocr) (2.34.2)\n",
      "Requirement already satisfied: tifffile>=2022.8.12 in d:\\development\\freelance\\formula_ocr_jupyter\\text_venv\\lib\\site-packages (from scikit-image->easyocr) (2023.7.10)\n",
      "Requirement already satisfied: PyWavelets>=1.1.1 in d:\\development\\freelance\\formula_ocr_jupyter\\text_venv\\lib\\site-packages (from scikit-image->easyocr) (1.4.1)\n",
      "Requirement already satisfied: lazy_loader>=0.2 in d:\\development\\freelance\\formula_ocr_jupyter\\text_venv\\lib\\site-packages (from scikit-image->easyocr) (0.4)\n",
      "Requirement already satisfied: mpmath<1.4,>=1.1.0 in d:\\development\\freelance\\formula_ocr_jupyter\\text_venv\\lib\\site-packages (from sympy->torch) (1.3.0)\n",
      "Note: you may need to restart the kernel to use updated packages.\n"
     ]
    }
   ],
   "source": [
    "# Pip installation commands\n",
    "%pip install opencv-python matplotlib torch torchvision easyocr"
   ]
  },
  {
   "cell_type": "code",
   "execution_count": 5,
   "metadata": {},
   "outputs": [
    {
     "name": "stdout",
     "output_type": "stream",
     "text": [
      "Collecting python-bidi==0.4.2\n",
      "  Using cached python_bidi-0.4.2-py2.py3-none-any.whl.metadata (4.6 kB)\n",
      "Requirement already satisfied: six in d:\\development\\freelance\\formula_ocr_jupyter\\text_venv\\lib\\site-packages (from python-bidi==0.4.2) (1.16.0)\n",
      "Using cached python_bidi-0.4.2-py2.py3-none-any.whl (30 kB)\n",
      "Installing collected packages: python-bidi\n",
      "  Attempting uninstall: python-bidi\n",
      "    Found existing installation: python-bidi 0.5.0\n",
      "    Uninstalling python-bidi-0.5.0:\n",
      "      Successfully uninstalled python-bidi-0.5.0\n",
      "Successfully installed python-bidi-0.4.2\n",
      "Note: you may need to restart the kernel to use updated packages.\n"
     ]
    },
    {
     "name": "stderr",
     "output_type": "stream",
     "text": [
      "  WARNING: Failed to remove contents in a temporary directory 'D:\\Development\\Freelance\\formula_ocr_jupyter\\text_venv\\Lib\\site-packages\\~idi'.\n",
      "  You can safely remove it manually.\n"
     ]
    }
   ],
   "source": [
    "%pip install python-bidi==0.4.2"
   ]
  },
  {
   "cell_type": "code",
   "execution_count": 6,
   "metadata": {},
   "outputs": [],
   "source": [
    "# Import statements\n",
    "import cv2\n",
    "import matplotlib.pyplot as plt\n",
    "import easyocr"
   ]
  },
  {
   "cell_type": "code",
   "execution_count": 7,
   "metadata": {},
   "outputs": [],
   "source": [
    "# Image pre-processing"
   ]
  },
  {
   "cell_type": "code",
   "execution_count": 16,
   "metadata": {},
   "outputs": [],
   "source": [
    "# Text extraction method\n",
    "\n",
    "def extract_text_with_bounding_boxes(image_path, reader):\n",
    "    # Load the image\n",
    "    img = cv2.imread(image_path)\n",
    "\n",
    "    # Detect text in the image\n",
    "    result = reader.readtext(image_path)\n",
    "\n",
    "    # Extract the text and draw bounding boxes\n",
    "    extracted_text = []\n",
    "    for detection in result:\n",
    "        top_left = (int(detection[0][0][0]), int(detection[0][0][1]))\n",
    "        bottom_right = (int(detection[0][2][0]), int(detection[0][2][1]))\n",
    "        text = detection[1]\n",
    "        img = cv2.rectangle(img, top_left, bottom_right, (0, 255, 0), 3)\n",
    "        img = cv2.putText(img, text, (20, 20), cv2.FONT_HERSHEY_SIMPLEX, 0.5, (0, 0, 255), 2, cv2.LINE_AA)\n",
    "        extracted_text.append(text)\n",
    "\n",
    "    # Display the output\n",
    "    plt.figure(figsize=(10, 10))\n",
    "    plt.imshow(img)\n",
    "    plt.show()\n",
    "\n",
    "    return extracted_text"
   ]
  },
  {
   "cell_type": "code",
   "execution_count": 27,
   "metadata": {},
   "outputs": [
    {
     "name": "stderr",
     "output_type": "stream",
     "text": [
      "Neither CUDA nor MPS are available - defaulting to CPU. Note: This module is much faster with a GPU.\n"
     ]
    },
    {
     "data": {
      "image/png": "[encoded data removed]",
      "text/plain": [
       "<Figure size 1000x1000 with 1 Axes>"
      ]
     },
     "metadata": {},
     "output_type": "display_data"
    },
    {
     "name": "stdout",
     "output_type": "stream",
     "text": [
      "['次の式を展開しなさい。', '(1)', '(正十5 y-2)', '一じり', 'Zじ+5y-I0']\n"
     ]
    }
   ],
   "source": [
    "# Method call\n",
    "# reader = easyocr.Reader(['en', 'ch_sim'])  # Support English, Chinese simplified\n",
    "# reader = easyocr.Reader(['en', 'ch_tra'])  # Support English, Chinese traditional\n",
    "# reader = easyocr.Reader(['en', 'ko'])  # Support English, Korean\n",
    "reader = easyocr.Reader(['en', 'ja'])  # Support English, Japanese\n",
    "# image_path = '../sample_images/formula_text/chinese/3.png'\n",
    "image_path = '../sample_images/formula_text/japanese/2.png'\n",
    "# image_path = '../sample_images/formula_only/1.png'\n",
    "extracted_text = extract_text_with_bounding_boxes(image_path, reader)\n",
    "print(extracted_text)"
   ]
  },
  {
   "cell_type": "code",
   "execution_count": null,
   "metadata": {},
   "outputs": [],
   "source": []
  },
  {
   "cell_type": "code",
   "execution_count": null,
   "metadata": {},
   "outputs": [],
   "source": []
  }
 ],
 "metadata": {
  "kernelspec": {
   "display_name": "venv",
   "language": "python",
   "name": "python3"
  },
  "language_info": {
   "codemirror_mode": {
    "name": "ipython",
    "version": 3
   },
   "file_extension": ".py",
   "mimetype": "text/x-python",
   "name": "python",
   "nbconvert_exporter": "python",
   "pygments_lexer": "ipython3",
   "version": "3.8.5"
  }
 },
 "nbformat": 4,
 "nbformat_minor": 2
}
