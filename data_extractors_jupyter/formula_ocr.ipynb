{
 "cells": [
  {
   "cell_type": "markdown",
   "metadata": {},
   "source": [
    "## Use Rapid OCR to detect formula only:\n",
    "\n",
    "1) Calculate the coordinates where the formula's are located in the image.\n",
    "2) Draw bounding boxes on these coordinates.\n",
    "3) Extract only the formulas in these bounding boxes and convert them to latex format."
   ]
  },
  {
   "cell_type": "code",
   "execution_count": 1,
   "metadata": {},
   "outputs": [
    {
     "name": "stdout",
     "output_type": "stream",
     "text": [
      "Collecting rapid_latex_ocr\n",
      "  Downloading rapid_latex_ocr-0.0.7-py3-none-any.whl.metadata (967 bytes)\n",
      "Collecting onnxruntime (from rapid_latex_ocr)\n",
      "  Using cached onnxruntime-1.18.1-cp38-cp38-win_amd64.whl.metadata (4.5 kB)\n",
      "Collecting tokenizers>=0.13.2 (from rapid_latex_ocr)\n",
      "  Using cached tokenizers-0.19.1-cp38-none-win_amd64.whl.metadata (6.9 kB)\n",
      "Collecting numpy<2.0.0 (from rapid_latex_ocr)\n",
      "  Using cached numpy-1.24.4-cp38-cp38-win_amd64.whl.metadata (5.6 kB)\n",
      "Collecting opencv-python (from rapid_latex_ocr)\n",
      "  Using cached opencv_python-4.10.0.84-cp37-abi3-win_amd64.whl.metadata (20 kB)\n",
      "Collecting Pillow>=9.2.0 (from rapid_latex_ocr)\n",
      "  Using cached pillow-10.4.0-cp38-cp38-win_amd64.whl.metadata (9.3 kB)\n",
      "Collecting PyYAML (from rapid_latex_ocr)\n",
      "  Using cached PyYAML-6.0.1-cp38-cp38-win_amd64.whl.metadata (2.1 kB)\n",
      "Collecting huggingface-hub<1.0,>=0.16.4 (from tokenizers>=0.13.2->rapid_latex_ocr)\n",
      "  Using cached huggingface_hub-0.23.4-py3-none-any.whl.metadata (12 kB)\n",
      "Collecting coloredlogs (from onnxruntime->rapid_latex_ocr)\n",
      "  Using cached coloredlogs-15.0.1-py2.py3-none-any.whl.metadata (12 kB)\n",
      "Collecting flatbuffers (from onnxruntime->rapid_latex_ocr)\n",
      "  Using cached flatbuffers-24.3.25-py2.py3-none-any.whl.metadata (850 bytes)\n",
      "Requirement already satisfied: packaging in d:\\development\\freelance\\formula_ocr_jupyter\\venv\\lib\\site-packages (from onnxruntime->rapid_latex_ocr) (24.1)\n",
      "Collecting protobuf (from onnxruntime->rapid_latex_ocr)\n",
      "  Using cached protobuf-5.27.2-cp38-cp38-win_amd64.whl.metadata (592 bytes)\n",
      "Collecting sympy (from onnxruntime->rapid_latex_ocr)\n",
      "  Using cached sympy-1.13.0-py3-none-any.whl.metadata (12 kB)\n",
      "Collecting filelock (from huggingface-hub<1.0,>=0.16.4->tokenizers>=0.13.2->rapid_latex_ocr)\n",
      "  Using cached filelock-3.15.4-py3-none-any.whl.metadata (2.9 kB)\n",
      "Collecting fsspec>=2023.5.0 (from huggingface-hub<1.0,>=0.16.4->tokenizers>=0.13.2->rapid_latex_ocr)\n",
      "  Using cached fsspec-2024.6.1-py3-none-any.whl.metadata (11 kB)\n",
      "Collecting requests (from huggingface-hub<1.0,>=0.16.4->tokenizers>=0.13.2->rapid_latex_ocr)\n",
      "  Using cached requests-2.32.3-py3-none-any.whl.metadata (4.6 kB)\n",
      "Collecting tqdm>=4.42.1 (from huggingface-hub<1.0,>=0.16.4->tokenizers>=0.13.2->rapid_latex_ocr)\n",
      "  Using cached tqdm-4.66.4-py3-none-any.whl.metadata (57 kB)\n",
      "Requirement already satisfied: typing-extensions>=3.7.4.3 in d:\\development\\freelance\\formula_ocr_jupyter\\venv\\lib\\site-packages (from huggingface-hub<1.0,>=0.16.4->tokenizers>=0.13.2->rapid_latex_ocr) (4.12.2)\n",
      "Collecting humanfriendly>=9.1 (from coloredlogs->onnxruntime->rapid_latex_ocr)\n",
      "  Using cached humanfriendly-10.0-py2.py3-none-any.whl.metadata (9.2 kB)\n",
      "Collecting mpmath<1.4,>=1.1.0 (from sympy->onnxruntime->rapid_latex_ocr)\n",
      "  Using cached mpmath-1.3.0-py3-none-any.whl.metadata (8.6 kB)\n",
      "Collecting pyreadline3 (from humanfriendly>=9.1->coloredlogs->onnxruntime->rapid_latex_ocr)\n",
      "  Using cached pyreadline3-3.4.1-py3-none-any.whl.metadata (2.0 kB)\n",
      "Requirement already satisfied: colorama in d:\\development\\freelance\\formula_ocr_jupyter\\venv\\lib\\site-packages (from tqdm>=4.42.1->huggingface-hub<1.0,>=0.16.4->tokenizers>=0.13.2->rapid_latex_ocr) (0.4.6)\n",
      "Collecting charset-normalizer<4,>=2 (from requests->huggingface-hub<1.0,>=0.16.4->tokenizers>=0.13.2->rapid_latex_ocr)\n",
      "  Using cached charset_normalizer-3.3.2-cp38-cp38-win_amd64.whl.metadata (34 kB)\n",
      "Collecting idna<4,>=2.5 (from requests->huggingface-hub<1.0,>=0.16.4->tokenizers>=0.13.2->rapid_latex_ocr)\n",
      "  Using cached idna-3.7-py3-none-any.whl.metadata (9.9 kB)\n",
      "Collecting urllib3<3,>=1.21.1 (from requests->huggingface-hub<1.0,>=0.16.4->tokenizers>=0.13.2->rapid_latex_ocr)\n",
      "  Using cached urllib3-2.2.2-py3-none-any.whl.metadata (6.4 kB)\n",
      "Collecting certifi>=2017.4.17 (from requests->huggingface-hub<1.0,>=0.16.4->tokenizers>=0.13.2->rapid_latex_ocr)\n",
      "  Using cached certifi-2024.7.4-py3-none-any.whl.metadata (2.2 kB)\n",
      "Downloading rapid_latex_ocr-0.0.7-py3-none-any.whl (11 kB)\n",
      "Using cached numpy-1.24.4-cp38-cp38-win_amd64.whl (14.9 MB)\n",
      "Using cached pillow-10.4.0-cp38-cp38-win_amd64.whl (2.6 MB)\n",
      "Using cached tokenizers-0.19.1-cp38-none-win_amd64.whl (2.2 MB)\n",
      "Using cached onnxruntime-1.18.1-cp38-cp38-win_amd64.whl (5.6 MB)\n",
      "Using cached opencv_python-4.10.0.84-cp37-abi3-win_amd64.whl (38.8 MB)\n",
      "Using cached PyYAML-6.0.1-cp38-cp38-win_amd64.whl (157 kB)\n",
      "Using cached huggingface_hub-0.23.4-py3-none-any.whl (402 kB)\n",
      "Using cached coloredlogs-15.0.1-py2.py3-none-any.whl (46 kB)\n",
      "Using cached flatbuffers-24.3.25-py2.py3-none-any.whl (26 kB)\n",
      "Using cached protobuf-5.27.2-cp38-cp38-win_amd64.whl (426 kB)\n",
      "Using cached sympy-1.13.0-py3-none-any.whl (6.2 MB)\n",
      "Using cached fsspec-2024.6.1-py3-none-any.whl (177 kB)\n",
      "Using cached humanfriendly-10.0-py2.py3-none-any.whl (86 kB)\n",
      "Using cached mpmath-1.3.0-py3-none-any.whl (536 kB)\n",
      "Using cached tqdm-4.66.4-py3-none-any.whl (78 kB)\n",
      "Using cached filelock-3.15.4-py3-none-any.whl (16 kB)\n",
      "Using cached requests-2.32.3-py3-none-any.whl (64 kB)\n",
      "Using cached certifi-2024.7.4-py3-none-any.whl (162 kB)\n",
      "Using cached charset_normalizer-3.3.2-cp38-cp38-win_amd64.whl (99 kB)\n",
      "Using cached idna-3.7-py3-none-any.whl (66 kB)\n",
      "Using cached urllib3-2.2.2-py3-none-any.whl (121 kB)\n",
      "Using cached pyreadline3-3.4.1-py3-none-any.whl (95 kB)\n",
      "Installing collected packages: pyreadline3, mpmath, flatbuffers, urllib3, tqdm, sympy, PyYAML, protobuf, Pillow, numpy, idna, humanfriendly, fsspec, filelock, charset-normalizer, certifi, requests, opencv-python, coloredlogs, onnxruntime, huggingface-hub, tokenizers, rapid_latex_ocr\n",
      "Successfully installed Pillow-10.4.0 PyYAML-6.0.1 certifi-2024.7.4 charset-normalizer-3.3.2 coloredlogs-15.0.1 filelock-3.15.4 flatbuffers-24.3.25 fsspec-2024.6.1 huggingface-hub-0.23.4 humanfriendly-10.0 idna-3.7 mpmath-1.3.0 numpy-1.24.4 onnxruntime-1.18.1 opencv-python-4.10.0.84 protobuf-5.27.2 pyreadline3-3.4.1 rapid_latex_ocr-0.0.7 requests-2.32.3 sympy-1.13.0 tokenizers-0.19.1 tqdm-4.66.4 urllib3-2.2.2\n",
      "Note: you may need to restart the kernel to use updated packages.\n"
     ]
    },
    {
     "name": "stderr",
     "output_type": "stream",
     "text": [
      "\n",
      "[notice] A new release of pip is available: 24.0 -> 24.1.2\n",
      "[notice] To update, run: python.exe -m pip install --upgrade pip\n"
     ]
    }
   ],
   "source": [
    "# Pip installation commands\n",
    "%pip install rapid_latex_ocr"
   ]
  },
  {
   "cell_type": "code",
   "execution_count": 1,
   "metadata": {},
   "outputs": [],
   "source": [
    "# Import statements\n",
    "import os\n",
    "import requests\n",
    "from rapid_latex_ocr import LatexOCR\n",
    "from urllib.parse import urlparse\n",
    "from utils.response_object import ResponseObject"
   ]
  },
  {
   "cell_type": "code",
   "execution_count": 3,
   "metadata": {},
   "outputs": [],
   "source": [
    "# Open Call to latex extraction\n",
    "\n",
    "def convert_image_to_latex(image_path: str, latex_model) -> dict:\n",
    "        \"\"\"Converts an image to latex using the specified model.\"\"\"\n",
    "\n",
    "        response_object = None\n",
    "\n",
    "        try:\n",
    "            latex_result, latex_elapse = latex_model(image_path)\n",
    "            response_object = ResponseObject(latex_result, latex_elapse)\n",
    "        except Exception as exc:\n",
    "             print(exc)\n",
    "\n",
    "        return response_object.to_dict()"
   ]
  },
  {
   "cell_type": "code",
   "execution_count": 16,
   "metadata": {},
   "outputs": [
    {
     "name": "stdout",
     "output_type": "stream",
     "text": [
      "{'latex_text': '\\\\begin{array}{c}{{\\\\angle\\\\mathrm{ABC}=\\\\angle\\\\mathrm{BCD}=90^{\\\\circ},}}\\\\\\\\ {{\\\\angle\\\\mathrm{BAC}=60^{\\\\circ}.\\\\angle\\\\mathrm{BDC}=45^{\\\\circ}}}\\\\end{array}', 'latex_elapse': 1.6269287000000077}\n"
     ]
    }
   ],
   "source": [
    "# Method call\n",
    "latex_model = LatexOCR()\n",
    "image_path = \"../sample_images/formula_only/10.png\"\n",
    "result = convert_image_to_latex(image_path, latex_model)\n",
    "print(result)"
   ]
  },
  {
   "cell_type": "code",
   "execution_count": null,
   "metadata": {},
   "outputs": [],
   "source": []
  },
  {
   "cell_type": "code",
   "execution_count": null,
   "metadata": {},
   "outputs": [],
   "source": []
  },
  {
   "cell_type": "code",
   "execution_count": null,
   "metadata": {},
   "outputs": [],
   "source": []
  },
  {
   "cell_type": "markdown",
   "metadata": {},
   "source": [
    "## Other"
   ]
  },
  {
   "cell_type": "code",
   "execution_count": null,
   "metadata": {},
   "outputs": [],
   "source": []
  }
 ],
 "metadata": {
  "kernelspec": {
   "display_name": "venv",
   "language": "python",
   "name": "python3"
  },
  "language_info": {
   "codemirror_mode": {
    "name": "ipython",
    "version": 3
   },
   "file_extension": ".py",
   "mimetype": "text/x-python",
   "name": "python",
   "nbconvert_exporter": "python",
   "pygments_lexer": "ipython3",
   "version": "3.8.5"
  }
 },
 "nbformat": 4,
 "nbformat_minor": 2
}
